{
 "cells": [
  {
   "cell_type": "markdown",
   "metadata": {},
   "source": [
    "# WeatherPy\n",
    "----\n",
    "\n",
    "#### Note\n",
    "* Instructions have been included for each segment. You do not have to follow them exactly, but they are included to help you think through the steps."
   ]
  },
  {
   "cell_type": "code",
   "execution_count": 1,
   "metadata": {
    "scrolled": true
   },
   "outputs": [],
   "source": [
    "# Dependencies and Setup\n",
    "import matplotlib.pyplot as plt\n",
    "import pandas as pd\n",
    "import numpy as np\n",
    "import requests\n",
    "import time\n",
    "from scipy.stats import linregress\n",
    "\n",
    "# Import API key\n",
    "from api_keys import weather_api_key\n",
    "\n",
    "# Incorporated citipy to determine city based on latitude and longitude\n",
    "from citipy import citipy\n",
    "\n",
    "# Output File (CSV)\n",
    "output_data_file = \"output_data/cities.csv\"\n",
    "\n",
    "# Range of latitudes and longitudes\n",
    "lat_range = (-90, 90)\n",
    "lng_range = (-180, 180)"
   ]
  },
  {
   "cell_type": "markdown",
   "metadata": {},
   "source": [
    "## Generate Cities List"
   ]
  },
  {
   "cell_type": "code",
   "execution_count": 2,
   "metadata": {},
   "outputs": [
    {
     "data": {
      "text/plain": [
       "623"
      ]
     },
     "execution_count": 2,
     "metadata": {},
     "output_type": "execute_result"
    }
   ],
   "source": [
    "# DO NOT RERUN IF YOU'VE ALREADY PULLED THE DATA\n",
    "\n",
    "# List for holding lat_lngs and cities\n",
    "lat_lngs = []\n",
    "cities = []\n",
    "\n",
    "# Create a set of random lat and lng combinations\n",
    "lats = np.random.uniform(lat_range[0], lat_range[1], size=1500)\n",
    "lngs = np.random.uniform(lng_range[0], lng_range[1], size=1500)\n",
    "lat_lngs = zip(lats, lngs)\n",
    "\n",
    "# Identify nearest city for each lat, lng combination\n",
    "for lat_lng in lat_lngs:\n",
    "    city = citipy.nearest_city(lat_lng[0], lat_lng[1]).city_name\n",
    "    \n",
    "    # If the city is unique, then add it to a our cities list\n",
    "    if city not in cities:\n",
    "        cities.append(city)\n",
    "\n",
    "# Print the city count to confirm sufficient count\n",
    "len(cities)"
   ]
  },
  {
   "cell_type": "markdown",
   "metadata": {},
   "source": [
    "### Perform API Calls\n",
    "* Perform a weather check on each city using a series of successive API calls.\n",
    "* Include a print log of each city as it'sbeing processed (with the city number and city name).\n"
   ]
  },
  {
   "cell_type": "code",
   "execution_count": 3,
   "metadata": {},
   "outputs": [],
   "source": [
    "url = \"http://api.openweathermap.org/data/2.5/weather?\""
   ]
  },
  {
   "cell_type": "code",
   "execution_count": 4,
   "metadata": {
    "scrolled": true
   },
   "outputs": [
    {
     "name": "stdout",
     "output_type": "stream",
     "text": [
      "City: Kaitangata ID: 2208248\n",
      "City: Staryy Nadym ID: 1490918\n",
      "City: Merritt ID: 6072350\n",
      "City: Lavrentiya ID: 4031637\n",
      "City: Hobart ID: 2163355\n",
      "City: Rikitea ID: 4030556\n",
      "City: Arraial do Cabo ID: 3471451\n",
      "City: Avarua ID: 4035715\n",
      "City: Tuktoyaktuk ID: 6170031\n",
      "City: Faanui ID: 4034551\n",
      "City: Tiksi ID: 2015306\n",
      "City: Kapaa ID: 5848280\n",
      "City: Norman Wells ID: 6089245\n",
      "City: Agadez ID: 2448083\n",
      "City: Port Elizabeth ID: 964420\n",
      "City: Mossamedes ID: 3347019\n",
      "City info not found.\n",
      "City: Albany ID: 5106841\n",
      "City: Athabasca ID: 5887916\n",
      "City: Banda Aceh ID: 1215502\n",
      "City: Pontianak ID: 1630789\n",
      "City: New Norfolk ID: 2155415\n",
      "City info not found.\n",
      "City: Thompson ID: 6165406\n",
      "City: Nanortalik ID: 3421765\n",
      "City: Zhukovo ID: 462792\n",
      "City: Kavieng ID: 2094342\n",
      "City: Redmond ID: 5808079\n",
      "City: Hermanus ID: 3366880\n",
      "City: Sabang ID: 1214026\n",
      "City: Ushuaia ID: 3833367\n",
      "City: Saint-François ID: 2980080\n",
      "City: Eyl ID: 60019\n",
      "City info not found.\n",
      "City: Porto-Novo ID: 2392087\n",
      "City: Dingle ID: 1714733\n",
      "City info not found.\n",
      "City: Port Augusta ID: 2063056\n",
      "City: Mar del Plata ID: 3430863\n",
      "City: Lebu ID: 3883457\n",
      "City: Hasaki ID: 2112802\n",
      "City: Vardø ID: 777019\n",
      "City info not found.\n",
      "City: Torbay ID: 6167817\n",
      "City: Muros ID: 3115824\n",
      "City: Katherine ID: 2068655\n",
      "City: Bluff ID: 2206939\n",
      "City: Pevek ID: 2122090\n",
      "City: Busselton ID: 2075265\n",
      "City: Charlottetown ID: 5920288\n",
      "City: Naze ID: 1855540\n",
      "City info not found.\n",
      "City: Samarai ID: 2132606\n",
      "City: Hithadhoo ID: 1282256\n",
      "City: Saldanha ID: 3361934\n",
      "City: George Town ID: 1735106\n",
      "City: Ihlow ID: 2896643\n",
      "City: Hilo ID: 5855927\n",
      "City: Kanniyākumāri ID: 1268008\n",
      "City: Melo ID: 3441702\n",
      "City: Black River ID: 3491355\n",
      "City: Wasilla ID: 5877641\n",
      "City: Grand Gaube ID: 934479\n",
      "City info not found.\n",
      "City: Yeppoon ID: 2142316\n",
      "City: Nānākuli ID: 5851349\n",
      "City: Capaci ID: 2525392\n",
      "City: Yellowknife ID: 6185377\n",
      "City: Dikson ID: 1507390\n",
      "City info not found.\n",
      "City: Okato ID: 2185763\n",
      "City: Punta Arenas ID: 3874787\n",
      "City: Verkhnevilyuysk ID: 2013639\n",
      "City info not found.\n",
      "City: Airai ID: 1651810\n",
      "City: Cape Town ID: 3369157\n",
      "City: Ribeira Grande ID: 3372707\n",
      "City: Mataura ID: 6201424\n",
      "City: Berriozábal ID: 3532254\n",
      "City: Port Alfred ID: 964432\n",
      "City: Morondava ID: 1058381\n",
      "City: San Rafael ID: 3836669\n",
      "City: Atuona ID: 4020109\n",
      "City: Castro ID: 3466704\n",
      "City: Codrington ID: 2171099\n",
      "City: Coahuayana Viejo ID: 4013679\n",
      "City: Salalah ID: 286621\n",
      "City: Bredasdorp ID: 1015776\n",
      "City info not found.\n",
      "City: Río Gallegos ID: 3838859\n",
      "City: Ormara ID: 1168700\n",
      "City: Upernavik ID: 3418910\n",
      "City: Nanchang ID: 1800163\n",
      "City: Nikolskoye ID: 546105\n",
      "City: Saint Paul Harbor ID: 5866583\n",
      "City: Carnarvon ID: 2074865\n",
      "City: Pochutla ID: 3517970\n",
      "City: Mahébourg ID: 934322\n",
      "City info not found.\n",
      "City: Vaini ID: 4032243\n",
      "City: Molodizhne ID: 700834\n",
      "City info not found.\n",
      "City: Bilma ID: 2446796\n",
      "City: Atlantic Beach ID: 4146354\n",
      "City: Yining ID: 1786538\n",
      "City: Fethiye ID: 314967\n",
      "City: Aykhal ID: 2027296\n",
      "City: Khani ID: 610864\n",
      "City: Ndélé ID: 237379\n",
      "City: Malbork ID: 3092472\n",
      "City: Opuwo ID: 3354077\n",
      "City info not found.\n",
      "City: Huanren ID: 2036713\n",
      "City: Khanpur ID: 1174167\n",
      "City: Tasiilaq ID: 3424607\n",
      "City info not found.\n",
      "City: Hong Kong ID: 1819729\n",
      "City: Berkåk ID: 3161622\n",
      "City: Havelock ID: 4470244\n",
      "City: Bathsheba ID: 3374083\n",
      "City: Ambilobe ID: 1082243\n",
      "City: Alice Springs ID: 2077895\n",
      "City: Kiryat Gat ID: 293842\n",
      "City: Bonavista ID: 5905393\n",
      "City: Inírida ID: 3671450\n",
      "City: Butaritari ID: 2110227\n",
      "City info not found.\n",
      "City: Iqaluit ID: 5983720\n",
      "City: Nuuk ID: 3421319\n",
      "City: Santa Cruz del Sur ID: 3537840\n",
      "City: Adrar ID: 2381972\n",
      "City: Jiuquan ID: 1279945\n",
      "City: Dunedin ID: 2191562\n",
      "City: Walvis Bay ID: 3359638\n",
      "City: Chui ID: 3443061\n",
      "City: Lloydminster ID: 6058024\n",
      "City info not found.\n",
      "City: Port Hardy ID: 6111862\n",
      "City: Barrow ID: 5880054\n",
      "City: La Santisima Trinidad ID: 3902377\n",
      "City: Santa Teresa del Tuy ID: 3627047\n",
      "City: Narsaq ID: 3421719\n",
      "City: Cidreira ID: 3466165\n",
      "City: Tatarsk ID: 1490003\n",
      "City: Qaanaaq ID: 3831208\n",
      "City: Alta Floresta ID: 6316343\n",
      "City: Troitskoye ID: 1489209\n",
      "City: Yugorsk ID: 1502725\n",
      "City: Balkhash ID: 1525798\n",
      "City: Chokurdakh ID: 2126123\n",
      "City: Jamestown ID: 5122534\n",
      "City info not found.\n",
      "City: Vaitape ID: 4033077\n",
      "City: Santa Barbara ID: 5392967\n",
      "City: São João da Barra ID: 3448903\n",
      "City: Saint George ID: 5546220\n",
      "City: Liwale ID: 155921\n",
      "City: Naranjal ID: 3653882\n",
      "City: Saint-Augustin ID: 6137462\n",
      "City: Khudumelapye ID: 933633\n",
      "City: Tiruchchendur ID: 1254390\n",
      "City: Chase ID: 5920381\n",
      "City: Vila Franca do Campo ID: 3372472\n",
      "City: Lafia ID: 2332515\n",
      "City: Remanso ID: 3408064\n",
      "City: Belmonte ID: 3470137\n",
      "City: Ayan ID: 2027316\n",
      "City: Hervey Bay ID: 2146219\n",
      "City: Hagi ID: 1863418\n",
      "City: Mahajanga ID: 1062663\n",
      "City: Alvdal ID: 3163269\n",
      "City: Saint-Philippe ID: 935215\n",
      "City: Puerto Ayora ID: 3652764\n",
      "City: Pangkalanbuun ID: 1632694\n",
      "City info not found.\n",
      "City: Marzuq ID: 72181\n",
      "City: Lagoa ID: 3372964\n",
      "City: Paamiut ID: 3421193\n",
      "City info not found.\n",
      "City: Oranjemund ID: 3354071\n",
      "City: Saint-Joseph ID: 6690296\n",
      "City: East London ID: 1006984\n",
      "City: Cam Ranh ID: 1586350\n",
      "City info not found.\n",
      "City: Luwuk ID: 1637001\n",
      "City: Provincia di Lecce ID: 3174952\n",
      "City: Yanam ID: 1252795\n",
      "City: Lincoln ID: 5072006\n",
      "City: Nshamba ID: 151373\n",
      "City: Pacific Grove ID: 5380437\n",
      "City: Labytnangi ID: 1500933\n",
      "City: Karratha ID: 6620339\n",
      "City: Sitka ID: 5557293\n",
      "City: Muli ID: 1337617\n",
      "City: Gambiran ID: 8070858\n",
      "City: Saskylakh ID: 2017155\n",
      "City: Provideniya ID: 4031574\n",
      "City: Kieta ID: 2094027\n",
      "City: Zhezkazgan ID: 1516589\n",
      "City info not found.\n",
      "City: Jardim ID: 3460087\n",
      "City info not found.\n",
      "City: Friedrichshafen ID: 2924585\n",
      "City: Ketchikan ID: 5554428\n",
      "City: Rome ID: 5134295\n",
      "City: Palmer ID: 4946620\n",
      "City: Bethel ID: 5282297\n",
      "City: Bilibino ID: 2126682\n",
      "City: Usta Muhammad ID: 1162868\n",
      "City: Antalaha ID: 1071296\n",
      "City: Klaksvík ID: 2618795\n",
      "City info not found.\n",
      "City: Mount Isa ID: 2065594\n",
      "City: Batagay-Alyta ID: 2027042\n",
      "City: Constantine ID: 2501152\n",
      "City: Clyde River ID: 5924351\n",
      "City: Kahului ID: 5847411\n",
      "City: Sahuaripa ID: 3988265\n",
      "City: Nantucket ID: 4944903\n",
      "City: Buraidah ID: 107304\n",
      "City: Vestmannaeyjar ID: 3412093\n",
      "City: George Town ID: 1735106\n",
      "City: Bubaque ID: 2374583\n",
      "City: San Alberto ID: 3670242\n",
      "City: Trujillo ID: 3691175\n",
      "City: Sacramento ID: 5389519\n",
      "City: Souillac ID: 933995\n",
      "City: Lillooet ID: 6945979\n",
      "City: Poum ID: 2138555\n",
      "City: Lompoc ID: 5367788\n",
      "City: Moïssala ID: 2427697\n",
      "City: Arman' ID: 2127060\n",
      "City: Benguela ID: 3351663\n",
      "City: Smithers ID: 6149996\n",
      "City: Campo Grande ID: 3467747\n",
      "City: The Valley ID: 3573374\n",
      "City: Rapsani ID: 734256\n",
      "City: Arroyo de la Encomienda ID: 3129371\n",
      "City: Ponta do Sol ID: 2264557\n",
      "City: Port Hedland ID: 2063042\n",
      "City info not found.\n",
      "City: Methóni ID: 257122\n",
      "City: Heraclea ID: 315498\n",
      "City: Hirara ID: 1862505\n",
      "City: São Miguel ID: 3388304\n",
      "City: Sai Buri ID: 1606851\n",
      "City: Malatya Province ID: 304919\n",
      "City: Jacareacanga ID: 3397763\n",
      "City: Verkhovazh'ye ID: 474354\n",
      "City: Tarata ID: 3903342\n",
      "City: Ancud ID: 3899695\n",
      "City info not found.\n",
      "City: Bambous Virieux ID: 1106677\n",
      "City: Portland ID: 5746545\n",
      "City: Ulagan ID: 1488048\n",
      "City info not found.\n",
      "City: Rapid Valley ID: 5768244\n",
      "City: Cerro Punta ID: 3712636\n",
      "City: Novogurovskiy ID: 518845\n",
      "City: Kalmunai ID: 1242110\n",
      "City: Ilulissat ID: 3423146\n",
      "City: Simao ID: 1794209\n",
      "City: Tigzirt ID: 2476660\n",
      "City: Lyngseidet ID: 778829\n",
      "City: Teknāf ID: 1185095\n",
      "City: Sena Madureira ID: 3662155\n",
      "City: Bengkulu ID: 1649150\n",
      "City: Mitú ID: 3674676\n",
      "City: Rodolfo Sánchez Taboada ID: 3996737\n",
      "City info not found.\n",
      "City: Uspenka ID: 690629\n",
      "City: Ferkessédougou ID: 2289049\n",
      "City: Anloga ID: 2304548\n",
      "City: Tuapse ID: 480716\n",
      "City info not found.\n",
      "City: Porbandar ID: 1259395\n",
      "City: Mazarrón ID: 2513983\n",
      "City: Kirksville ID: 5055787\n",
      "City: Tarabuco ID: 3903391\n",
      "City: San Quintín ID: 3984997\n",
      "City: Batemans Bay ID: 2176639\n",
      "City: Ust-Maya ID: 2013918\n",
      "City: Tsumeb ID: 3352593\n",
      "City: Talnakh ID: 1490256\n",
      "City info not found.\n",
      "City: Ostrovnoy ID: 556268\n",
      "City: Berdigestyakh ID: 2026861\n",
      "City: Brae ID: 2654970\n",
      "City: Beyneu ID: 610298\n",
      "City: Kismayo ID: 55671\n",
      "City: Isangel ID: 2136825\n",
      "City: Bowen ID: 2174444\n",
      "City: Suntar ID: 2015913\n",
      "City: Campos Gerais ID: 3467680\n",
      "City: Tura ID: 1254046\n",
      "City: Melito di Porto Salvo ID: 2524181\n",
      "City: Beringovskiy ID: 2126710\n",
      "City: Saýat ID: 1218436\n",
      "City: Aksarka ID: 1512019\n",
      "City info not found.\n",
      "City info not found.\n",
      "City: Pithāpuram ID: 1259508\n",
      "City: Goderich ID: 5962442\n"
     ]
    },
    {
     "name": "stdout",
     "output_type": "stream",
     "text": [
      "City: Baykit ID: 1510689\n",
      "City: São José da Coroa Grande ID: 3388456\n",
      "City: Kristianstad ID: 2699310\n",
      "City: Shenjiamen ID: 1795632\n",
      "City: Cherskiy ID: 2126199\n",
      "City: Shelburne ID: 6145890\n",
      "City: Biltine ID: 244878\n",
      "City info not found.\n",
      "City: Nsunga ID: 151363\n",
      "City: Tilichiki ID: 2120591\n",
      "City: Christchurch ID: 2192362\n",
      "City: Uvira ID: 204405\n",
      "City: Fairbanks ID: 5861897\n",
      "City: Shiloh ID: 4249910\n",
      "City: Algeciras ID: 2522013\n",
      "City info not found.\n",
      "City: São Miguel do Araguaia ID: 3448455\n",
      "City: Sungai Raya ID: 1625908\n",
      "City: Zabid ID: 69500\n",
      "City: Longyearbyen ID: 2729907\n",
      "City: Sidi Ali ID: 2487130\n",
      "City: Pisco ID: 3932145\n",
      "City: Nouadhibou ID: 2377457\n",
      "City info not found.\n",
      "City: Dubbo ID: 2168305\n",
      "City: Geraldton ID: 2070998\n",
      "City: Kununurra ID: 2068110\n",
      "City: Coyhaique ID: 3894426\n",
      "City: Tiznit Province ID: 2527087\n",
      "City: Seoul ID: 1835848\n",
      "City: Guerrero Negro ID: 4021858\n",
      "City: Rota ID: 2511700\n",
      "City: Muborak ID: 1216475\n",
      "City: Japura ID: 1642773\n",
      "City: Leh ID: 1264976\n",
      "City: Port Blair ID: 1259385\n",
      "City: Yar-Sale ID: 1486321\n",
      "City: Aswān ID: 359792\n",
      "City: Gaoual ID: 2420826\n",
      "City: Yazd ID: 111822\n",
      "City: Port-Gentil ID: 2396518\n",
      "City: Río Cuarto ID: 3838874\n",
      "City: Pusztaszabolcs ID: 3046087\n",
      "City: Fukuechō ID: 1863997\n",
      "City: Xining ID: 1788852\n",
      "City: Lisala ID: 211734\n",
      "City: Lodja ID: 211647\n",
      "City: Kruisfontein ID: 986717\n",
      "City: Nyurba ID: 2018735\n",
      "City: Lüderitz ID: 3355672\n",
      "City: Jiazi ID: 1805935\n",
      "City: Seydi ID: 1218420\n",
      "City: Abu Samrah ID: 172515\n",
      "City: Bahía Blanca ID: 3865086\n",
      "City: Ponta Grossa ID: 3453186\n",
      "City: Dushanbe ID: 7280679\n",
      "City: Rawson ID: 3839307\n",
      "City: Saint-Pierre ID: 935214\n",
      "City: Leshukonskoye ID: 535839\n",
      "City: Makakilo City ID: 5850554\n",
      "City: Riobamba ID: 3652350\n",
      "City: Tutóia ID: 3385899\n",
      "City: Camaná ID: 3945985\n",
      "City info not found.\n",
      "City: Jining ID: 1805518\n",
      "City: Nālūt ID: 2214432\n",
      "City: Tazovsky ID: 1489853\n",
      "City: Laibin ID: 1804609\n",
      "City: Kyabé ID: 2429344\n",
      "City info not found.\n",
      "City: Nizhniy Tsasuchey ID: 2019118\n",
      "City: San Felipe ID: 3628423\n",
      "City: Imbituba ID: 3461370\n",
      "City: Hofn ID: 2630299\n",
      "City: Khatanga ID: 2022572\n",
      "City: Guarapari ID: 3461888\n",
      "City: Meulaboh ID: 1214488\n",
      "City: Cabo San Lucas ID: 3985710\n",
      "City: Shumikha ID: 1491999\n",
      "City: Misantla ID: 3523141\n",
      "City: Khuzhir ID: 2022143\n",
      "City: Kirakira ID: 2178753\n",
      "City: Guadalajara ID: 4005539\n",
      "City: Moranbah ID: 6533368\n",
      "City: Koygorodok ID: 543396\n",
      "City: Piaçabuçu ID: 3454005\n",
      "City: Haapiti ID: 4034438\n",
      "City: Margate ID: 2643044\n",
      "City: Port Lincoln ID: 2063036\n",
      "City: Katsuura ID: 2112309\n",
      "City info not found.\n",
      "City: Rupert ID: 5606000\n",
      "City: Karligan ID: 1718367\n",
      "City: Gorodishche ID: 559654\n",
      "City: Beberibe ID: 3405924\n",
      "City: Dudinka ID: 1507116\n",
      "City: Praia da Vitória ID: 3372760\n",
      "City: Westport ID: 4845585\n",
      "City: Faya ID: 110690\n",
      "City: Chapais ID: 5919850\n",
      "City: Acaraú ID: 3408368\n",
      "City: Kamalpur ID: 1268271\n",
      "City: Onnaing ID: 2989506\n",
      "City: Bärnbach ID: 2781992\n",
      "City: Half Moon Bay ID: 5354943\n",
      "City: Henties Bay ID: 3356832\n",
      "City: Nelson Bay ID: 2155562\n",
      "City: Yulara ID: 6355222\n",
      "City: Santa Cruz de la Sierra ID: 3904906\n",
      "City: Culpeper ID: 4754972\n",
      "City: Qasigiannguit ID: 3420768\n",
      "City: Vostok ID: 2013279\n",
      "City info not found.\n",
      "City: Ahipara ID: 2194098\n",
      "City: Ulaangom ID: 1515029\n",
      "City: Aklavik ID: 5882953\n",
      "City: Requena ID: 2511930\n",
      "City info not found.\n",
      "City: Cururupu ID: 3401148\n",
      "City: Eirunepé ID: 3664321\n",
      "City: Grindavik ID: 3416888\n",
      "City: Erenhot ID: 2037485\n",
      "City: ‘Ewa Beach ID: 5855051\n",
      "City: Marshall ID: 4074736\n",
      "City: Alofi ID: 4036284\n",
      "City: Riacho de Santana ID: 3451448\n",
      "City info not found.\n",
      "City: Sibolga ID: 1213855\n",
      "City: Nome ID: 5870133\n",
      "City info not found.\n",
      "City: Zhangjiakou Shi Xuanhua Qu ID: 2033574\n",
      "City: Te Anau ID: 2181625\n",
      "City: Brigantine ID: 4500920\n",
      "City: Mount Gambier ID: 2156643\n",
      "City: Mackay ID: 2159220\n",
      "City: Roboré ID: 3444176\n",
      "City: Whitehorse ID: 6180550\n",
      "City: São Filipe ID: 3374210\n",
      "City: Arrondissement de Melun ID: 2994650\n",
      "City info not found.\n",
      "City: Laredo ID: 4705349\n",
      "City: Havre-St-Pierre ID: 5972291\n",
      "City: Mocuba ID: 1024312\n",
      "City: Hambantota ID: 1244926\n",
      "City: Safaga ID: 358620\n",
      "City: Safi ID: 2537881\n",
      "City: Gloversville ID: 5118743\n",
      "City: Oroville ID: 5379759\n",
      "City: Luanda ID: 2240449\n",
      "City: Aurora ID: 5412347\n",
      "City: Ust-Nera ID: 2120048\n",
      "City: Lingao ID: 1803560\n",
      "City: Vicksburg ID: 4449620\n",
      "City: Shache ID: 1280037\n",
      "City: Elko ID: 5703673\n",
      "City: Sines Municipality ID: 2262917\n",
      "City: Asău ID: 686090\n",
      "City: St. George's ID: 3579925\n",
      "City: Haines Junction ID: 5969025\n",
      "City: Flagstaff ID: 5294810\n",
      "City: Boa Vista ID: 3664980\n",
      "City: Ippy ID: 238566\n",
      "City: Sohag ID: 347796\n",
      "City: Oktyabr'skiy ID: 515879\n",
      "City: Solnechnyy ID: 2016307\n",
      "City: Ballina ID: 2177069\n",
      "City: Itarema ID: 3393692\n",
      "City: Nagua ID: 3496021\n",
      "City: Plouzané ID: 2986626\n",
      "City: Laas ID: 3175096\n",
      "City: Maceió ID: 3395981\n",
      "City: Buala ID: 2109528\n",
      "City: Xai-Xai ID: 1024552\n",
      "City: Basco ID: 1726449\n",
      "City: Zyryanka ID: 2119283\n",
      "City: Ulladulla ID: 2145554\n",
      "City: Tateyama ID: 1850523\n",
      "City: Ponorogo ID: 1630798\n",
      "City: Camacha ID: 2270385\n",
      "City: Necochea ID: 3430443\n",
      "City: Coquimbo ID: 3893629\n",
      "City: Sirte ID: 2210554\n",
      "City info not found.\n",
      "City: João Câmara ID: 3397315\n",
      "City info not found.\n",
      "City: Laguna ID: 5364271\n",
      "City: Maniitsoq ID: 3421982\n",
      "City info not found.\n",
      "City: Farim ID: 2372647\n",
      "City: Grigiškės ID: 599161\n",
      "City: Savannah Bight ID: 3601402\n",
      "City: Richards Bay ID: 962367\n",
      "City info not found.\n",
      "City: Oistins ID: 3373652\n",
      "City: Ukiah ID: 5404476\n",
      "City: Great Yarmouth ID: 2647984\n",
      "City info not found.\n",
      "City info not found.\n",
      "City: Koz'modem'yansk ID: 543018\n",
      "City: Maxixe ID: 1039536\n",
      "City: Mahina ID: 4034307\n",
      "City: Konya Province ID: 306569\n",
      "City: Zavyalovo ID: 1505506\n",
      "City: Port Macquarie ID: 2152659\n",
      "City info not found.\n",
      "City: Ginda ID: 1253628\n",
      "City: Bemidji ID: 5017822\n",
      "City: Mongoumba ID: 2384377\n",
      "City: Liverpool ID: 2644210\n",
      "City: Gweta ID: 933734\n",
      "City: Rosetta ID: 350203\n",
      "City: La Sarre ID: 6050194\n",
      "City: Severnyy ID: 496358\n",
      "City: Okhotsk ID: 2122605\n",
      "City: Lorengau ID: 2092164\n",
      "City: Santa Maria ID: 3450083\n",
      "City: Ibirubá ID: 3461559\n",
      "City: Two Hills ID: 6171332\n",
      "City: Holiday ID: 4158865\n",
      "City: Zhumadian ID: 1783873\n",
      "City: Leningradskiy ID: 2123814\n",
      "City: Alginet ID: 2522007\n",
      "City: Arys ID: 1526168\n",
      "City info not found.\n",
      "City: Avera ID: 4231997\n",
      "City info not found.\n",
      "City: Orange ID: 5379524\n",
      "City: Kamenka ID: 553766\n",
      "City: Skibbereen ID: 2961459\n",
      "City: Yerbogachën ID: 2012956\n",
      "City: Cayenne ID: 3382160\n",
      "City: Metro ID: 1635283\n",
      "City: Muisne ID: 3653967\n",
      "City: Aksu ID: 1529660\n",
      "City info not found.\n",
      "City: Bardejov ID: 725168\n",
      "City: Tromsø ID: 6453316\n",
      "City: Kazygurt ID: 1521351\n",
      "City: Tuatapere ID: 2180815\n",
      "City: Jalu ID: 86049\n",
      "City: Ordynskoye ID: 1496100\n",
      "City: Sīrjān ID: 114259\n",
      "City: Severo-Kuril'sk ID: 2121385\n",
      "City: Kiyasovo ID: 547927\n",
      "City: Itoman ID: 1861280\n",
      "City: Humberto de Campos ID: 3398428\n",
      "City: Gravdal ID: 3155152\n",
      "City: Virginia Beach ID: 4791259\n",
      "City: Grand Falls ID: 6621033\n",
      "City: Mergen ID: 2035601\n",
      "City: Yarensk ID: 468983\n",
      "City: Viranşehir ID: 298033\n",
      "City: Río Viejo ID: 3670709\n",
      "City: Hualmay ID: 3939761\n",
      "City: Iquitos ID: 3696183\n",
      "City: Daugavpils ID: 460413\n",
      "City: Chul'man ID: 2025261\n",
      "City info not found.\n",
      "City: Taltal ID: 3870243\n",
      "City: Nemuro ID: 2128975\n",
      "City: Jaciara ID: 3460355\n",
      "City: Ust'-Ilimsk ID: 2013952\n",
      "City: Mayor Pablo Lagerenza ID: 3867427\n",
      "City: Visby ID: 2662689\n",
      "City info not found.\n",
      "City: Touba ID: 2280376\n",
      "City: Ayní ID: 1222222\n",
      "City: Chaves ID: 5461428\n",
      "City: Bariloche ID: 7647007\n",
      "City: Najrān ID: 103630\n",
      "City: Kavaratti ID: 1267390\n",
      "City: Sharjah city ID: 292672\n",
      "City: Paita ID: 3694112\n",
      "City: Tautira ID: 4033557\n",
      "City: Tsimmerbude ID: 485660\n",
      "City: Presidencia Roque Sáenz Peña ID: 3840300\n",
      "City: Acapulco de Juárez ID: 3533462\n",
      "City: Petropavlovsk-Kamchatskiy ID: 2122104\n",
      "City: Kamaishi ID: 2112444\n",
      "City: Saryagash ID: 1512934\n",
      "City info not found.\n",
      "City: Rio Grande ID: 3451138\n",
      "City: Husavik ID: 2629833\n",
      "City: Söderhamn ID: 2676224\n",
      "City: Kargasok ID: 1504382\n",
      "City: Severodvinsk ID: 496285\n",
      "City: Druskininkai ID: 599757\n",
      "City: Kang ID: 933692\n",
      "City: Plettenberg Bay ID: 964712\n",
      "City: Vilyuysk ID: 2013392\n",
      "City: Bud ID: 4255151\n",
      "City: Mama ID: 2020313\n",
      "City: Ust-Kuyga ID: 2013921\n",
      "City: Russkiy Aktash ID: 583573\n",
      "City: Tomatlán ID: 3981391\n",
      "City: Trincomalee ID: 1226260\n",
      "City: Mandeville ID: 3489577\n",
      "City: Berbera ID: 64435\n",
      "City: Ziarat ID: 1162094\n",
      "City: Novoanninskiy ID: 519062\n",
      "City: Den Helder ID: 2757220\n",
      "City: La Paz ID: 3911925\n",
      "City: Kaeo ID: 2189343\n",
      "City info not found.\n"
     ]
    },
    {
     "name": "stdout",
     "output_type": "stream",
     "text": [
      "City: Shulan ID: 2034761\n",
      "City: Māngrol ID: 1263752\n",
      "City: Challans ID: 3027513\n",
      "City: Snåase ID: 3138076\n",
      "City: Gizo Government Station ID: 2108857\n",
      "City: Diapaga ID: 2361373\n",
      "City: Walla Walla ID: 5814916\n",
      "City info not found.\n",
      "City: Sungai Penuh ID: 1625929\n",
      "City: Ledyard Center ID: 4837648\n",
      "City: Lukulu ID: 909488\n",
      "City: Iğdır ID: 311665\n",
      "City: Obo ID: 236950\n",
      "City: Bougouni ID: 2459775\n",
      "City: Remontnoye ID: 502185\n",
      "City info not found.\n"
     ]
    }
   ],
   "source": [
    "# DO NOT RERUN IF YOU'VE ALREADY PULLED THE DATA\n",
    "# IT IS STORED IN THE CSV\n",
    "\n",
    "# Initialize lists to hold data to be appended as we loop through 'weather_json'\n",
    "wd_city, wd_lat, wd_lng, wd_max_temp, wd_humidity, wd_cloudiness, wd_wind_speed, wd_country, wd_date = ([] for i in range(9))\n",
    "\n",
    "for city in cities:\n",
    "    query_url = f\"{url}q={city}&units=imperial&appid={weather_api_key}\"\n",
    "    response = requests.get(query_url).json()\n",
    "    try:\n",
    "        wd_city.append(response[\"name\"])\n",
    "        wd_lat.append(response[\"coord\"][\"lat\"])\n",
    "        wd_lng.append(response[\"coord\"][\"lon\"])\n",
    "        wd_max_temp.append(response[\"main\"][\"temp_max\"])\n",
    "        wd_humidity.append(response[\"main\"][\"humidity\"])\n",
    "        wd_cloudiness.append(response[\"clouds\"][\"all\"])\n",
    "        wd_wind_speed.append(response[\"wind\"][\"speed\"])\n",
    "        wd_country.append(response[\"sys\"][\"country\"])\n",
    "        wd_date.append(response[\"dt\"])\n",
    "        \n",
    "        print(f\"City: {response['name']} ID: {response['id']}\")\n",
    "    \n",
    "    except (KeyError, NameError):\n",
    "        print(\"City info not found.\")"
   ]
  },
  {
   "cell_type": "markdown",
   "metadata": {},
   "source": [
    "### Convert Raw Data to DataFrame\n",
    "* Export the city data into a .csv.\n",
    "* Display the DataFrame"
   ]
  },
  {
   "cell_type": "code",
   "execution_count": 5,
   "metadata": {},
   "outputs": [],
   "source": [
    "# DO NOT RERUN IF YOU'VE ALREADY PULLED THE DATA\n",
    "# IT IS STORED IN THE CSV\n",
    "\n",
    "w_df = pd.DataFrame({\n",
    "    \"City\" : wd_city\n",
    "    ,\"Lat\" : wd_lat\n",
    "    ,\"Lng\" : wd_lng\n",
    "    ,\"Max Temp\" : wd_max_temp\n",
    "    ,\"Humidity\" : wd_humidity\n",
    "    ,\"Cloudiness\" : wd_cloudiness\n",
    "    ,\"Wind Speed\" : wd_wind_speed\n",
    "    ,\"Country\" : wd_country\n",
    "    ,\"Date\" : wd_date\n",
    "})\n",
    "\n",
    "w_df.to_csv(output_data_file, index = False)"
   ]
  },
  {
   "cell_type": "code",
   "execution_count": 6,
   "metadata": {},
   "outputs": [
    {
     "data": {
      "text/html": [
       "<div>\n",
       "<style scoped>\n",
       "    .dataframe tbody tr th:only-of-type {\n",
       "        vertical-align: middle;\n",
       "    }\n",
       "\n",
       "    .dataframe tbody tr th {\n",
       "        vertical-align: top;\n",
       "    }\n",
       "\n",
       "    .dataframe thead th {\n",
       "        text-align: right;\n",
       "    }\n",
       "</style>\n",
       "<table border=\"1\" class=\"dataframe\">\n",
       "  <thead>\n",
       "    <tr style=\"text-align: right;\">\n",
       "      <th></th>\n",
       "      <th>City</th>\n",
       "      <th>Lat</th>\n",
       "      <th>Lng</th>\n",
       "      <th>Max Temp</th>\n",
       "      <th>Humidity</th>\n",
       "      <th>Cloudiness</th>\n",
       "      <th>Wind Speed</th>\n",
       "      <th>Country</th>\n",
       "      <th>Date</th>\n",
       "    </tr>\n",
       "  </thead>\n",
       "  <tbody>\n",
       "    <tr>\n",
       "      <th>0</th>\n",
       "      <td>Kaitangata</td>\n",
       "      <td>-46.2817</td>\n",
       "      <td>169.8464</td>\n",
       "      <td>49.64</td>\n",
       "      <td>94</td>\n",
       "      <td>85</td>\n",
       "      <td>7.63</td>\n",
       "      <td>NZ</td>\n",
       "      <td>1618316230</td>\n",
       "    </tr>\n",
       "    <tr>\n",
       "      <th>1</th>\n",
       "      <td>Staryy Nadym</td>\n",
       "      <td>65.6118</td>\n",
       "      <td>72.6842</td>\n",
       "      <td>32.41</td>\n",
       "      <td>79</td>\n",
       "      <td>65</td>\n",
       "      <td>18.48</td>\n",
       "      <td>RU</td>\n",
       "      <td>1618316230</td>\n",
       "    </tr>\n",
       "    <tr>\n",
       "      <th>2</th>\n",
       "      <td>Merritt</td>\n",
       "      <td>50.1123</td>\n",
       "      <td>-120.7942</td>\n",
       "      <td>28.40</td>\n",
       "      <td>86</td>\n",
       "      <td>1</td>\n",
       "      <td>2.30</td>\n",
       "      <td>CA</td>\n",
       "      <td>1618316230</td>\n",
       "    </tr>\n",
       "    <tr>\n",
       "      <th>3</th>\n",
       "      <td>Lavrentiya</td>\n",
       "      <td>65.5833</td>\n",
       "      <td>-171.0000</td>\n",
       "      <td>18.82</td>\n",
       "      <td>95</td>\n",
       "      <td>100</td>\n",
       "      <td>11.25</td>\n",
       "      <td>RU</td>\n",
       "      <td>1618316231</td>\n",
       "    </tr>\n",
       "    <tr>\n",
       "      <th>4</th>\n",
       "      <td>Hobart</td>\n",
       "      <td>-42.8794</td>\n",
       "      <td>147.3294</td>\n",
       "      <td>55.40</td>\n",
       "      <td>82</td>\n",
       "      <td>90</td>\n",
       "      <td>11.50</td>\n",
       "      <td>AU</td>\n",
       "      <td>1618316231</td>\n",
       "    </tr>\n",
       "  </tbody>\n",
       "</table>\n",
       "</div>"
      ],
      "text/plain": [
       "           City      Lat       Lng  Max Temp  Humidity  Cloudiness  \\\n",
       "0    Kaitangata -46.2817  169.8464     49.64        94          85   \n",
       "1  Staryy Nadym  65.6118   72.6842     32.41        79          65   \n",
       "2       Merritt  50.1123 -120.7942     28.40        86           1   \n",
       "3    Lavrentiya  65.5833 -171.0000     18.82        95         100   \n",
       "4        Hobart -42.8794  147.3294     55.40        82          90   \n",
       "\n",
       "   Wind Speed Country        Date  \n",
       "0        7.63      NZ  1618316230  \n",
       "1       18.48      RU  1618316230  \n",
       "2        2.30      CA  1618316230  \n",
       "3       11.25      RU  1618316231  \n",
       "4       11.50      AU  1618316231  "
      ]
     },
     "execution_count": 6,
     "metadata": {},
     "output_type": "execute_result"
    }
   ],
   "source": [
    "# Read in the saved instance from the csv\n",
    "weather_df = pd.read_csv(output_data_file, encoding = 'utf-8')\n",
    "\n",
    "weather_df.head()"
   ]
  },
  {
   "cell_type": "code",
   "execution_count": 7,
   "metadata": {},
   "outputs": [
    {
     "data": {
      "text/html": [
       "<div>\n",
       "<style scoped>\n",
       "    .dataframe tbody tr th:only-of-type {\n",
       "        vertical-align: middle;\n",
       "    }\n",
       "\n",
       "    .dataframe tbody tr th {\n",
       "        vertical-align: top;\n",
       "    }\n",
       "\n",
       "    .dataframe thead th {\n",
       "        text-align: right;\n",
       "    }\n",
       "</style>\n",
       "<table border=\"1\" class=\"dataframe\">\n",
       "  <thead>\n",
       "    <tr style=\"text-align: right;\">\n",
       "      <th></th>\n",
       "      <th>Lat</th>\n",
       "      <th>Lng</th>\n",
       "      <th>Max Temp</th>\n",
       "      <th>Humidity</th>\n",
       "      <th>Cloudiness</th>\n",
       "      <th>Wind Speed</th>\n",
       "      <th>Date</th>\n",
       "    </tr>\n",
       "  </thead>\n",
       "  <tbody>\n",
       "    <tr>\n",
       "      <th>count</th>\n",
       "      <td>565.000000</td>\n",
       "      <td>565.000000</td>\n",
       "      <td>565.000000</td>\n",
       "      <td>565.000000</td>\n",
       "      <td>565.000000</td>\n",
       "      <td>565.00000</td>\n",
       "      <td>5.650000e+02</td>\n",
       "    </tr>\n",
       "    <tr>\n",
       "      <th>mean</th>\n",
       "      <td>20.625326</td>\n",
       "      <td>13.168719</td>\n",
       "      <td>60.259239</td>\n",
       "      <td>68.138053</td>\n",
       "      <td>54.281416</td>\n",
       "      <td>8.50623</td>\n",
       "      <td>1.618316e+09</td>\n",
       "    </tr>\n",
       "    <tr>\n",
       "      <th>std</th>\n",
       "      <td>33.401007</td>\n",
       "      <td>89.892009</td>\n",
       "      <td>23.446805</td>\n",
       "      <td>23.610959</td>\n",
       "      <td>37.427572</td>\n",
       "      <td>5.67590</td>\n",
       "      <td>1.032858e+02</td>\n",
       "    </tr>\n",
       "    <tr>\n",
       "      <th>min</th>\n",
       "      <td>-54.800000</td>\n",
       "      <td>-175.200000</td>\n",
       "      <td>-19.300000</td>\n",
       "      <td>3.000000</td>\n",
       "      <td>0.000000</td>\n",
       "      <td>0.20000</td>\n",
       "      <td>1.618315e+09</td>\n",
       "    </tr>\n",
       "    <tr>\n",
       "      <th>25%</th>\n",
       "      <td>-8.145000</td>\n",
       "      <td>-64.900000</td>\n",
       "      <td>46.000000</td>\n",
       "      <td>55.000000</td>\n",
       "      <td>20.000000</td>\n",
       "      <td>4.29000</td>\n",
       "      <td>1.618316e+09</td>\n",
       "    </tr>\n",
       "    <tr>\n",
       "      <th>50%</th>\n",
       "      <td>27.506400</td>\n",
       "      <td>18.423200</td>\n",
       "      <td>64.170000</td>\n",
       "      <td>74.000000</td>\n",
       "      <td>65.000000</td>\n",
       "      <td>6.91000</td>\n",
       "      <td>1.618316e+09</td>\n",
       "    </tr>\n",
       "    <tr>\n",
       "      <th>75%</th>\n",
       "      <td>48.390300</td>\n",
       "      <td>82.448400</td>\n",
       "      <td>78.800000</td>\n",
       "      <td>86.000000</td>\n",
       "      <td>90.000000</td>\n",
       "      <td>11.50000</td>\n",
       "      <td>1.618316e+09</td>\n",
       "    </tr>\n",
       "    <tr>\n",
       "      <th>max</th>\n",
       "      <td>78.218600</td>\n",
       "      <td>179.316700</td>\n",
       "      <td>107.370000</td>\n",
       "      <td>100.000000</td>\n",
       "      <td>100.000000</td>\n",
       "      <td>37.87000</td>\n",
       "      <td>1.618316e+09</td>\n",
       "    </tr>\n",
       "  </tbody>\n",
       "</table>\n",
       "</div>"
      ],
      "text/plain": [
       "              Lat         Lng    Max Temp    Humidity  Cloudiness  Wind Speed  \\\n",
       "count  565.000000  565.000000  565.000000  565.000000  565.000000   565.00000   \n",
       "mean    20.625326   13.168719   60.259239   68.138053   54.281416     8.50623   \n",
       "std     33.401007   89.892009   23.446805   23.610959   37.427572     5.67590   \n",
       "min    -54.800000 -175.200000  -19.300000    3.000000    0.000000     0.20000   \n",
       "25%     -8.145000  -64.900000   46.000000   55.000000   20.000000     4.29000   \n",
       "50%     27.506400   18.423200   64.170000   74.000000   65.000000     6.91000   \n",
       "75%     48.390300   82.448400   78.800000   86.000000   90.000000    11.50000   \n",
       "max     78.218600  179.316700  107.370000  100.000000  100.000000    37.87000   \n",
       "\n",
       "               Date  \n",
       "count  5.650000e+02  \n",
       "mean   1.618316e+09  \n",
       "std    1.032858e+02  \n",
       "min    1.618315e+09  \n",
       "25%    1.618316e+09  \n",
       "50%    1.618316e+09  \n",
       "75%    1.618316e+09  \n",
       "max    1.618316e+09  "
      ]
     },
     "execution_count": 7,
     "metadata": {},
     "output_type": "execute_result"
    }
   ],
   "source": [
    "weather_summ = weather_df.describe()\n",
    "\n",
    "weather_summ"
   ]
  },
  {
   "cell_type": "markdown",
   "metadata": {},
   "source": [
    "## Inspect the data and remove the cities where the humidity > 100%.\n",
    "----\n",
    "Skip this step if there are no cities that have humidity > 100%. "
   ]
  },
  {
   "cell_type": "code",
   "execution_count": 8,
   "metadata": {},
   "outputs": [
    {
     "data": {
      "text/html": [
       "<div>\n",
       "<style scoped>\n",
       "    .dataframe tbody tr th:only-of-type {\n",
       "        vertical-align: middle;\n",
       "    }\n",
       "\n",
       "    .dataframe tbody tr th {\n",
       "        vertical-align: top;\n",
       "    }\n",
       "\n",
       "    .dataframe thead th {\n",
       "        text-align: right;\n",
       "    }\n",
       "</style>\n",
       "<table border=\"1\" class=\"dataframe\">\n",
       "  <thead>\n",
       "    <tr style=\"text-align: right;\">\n",
       "      <th></th>\n",
       "      <th>Lat</th>\n",
       "      <th>Lng</th>\n",
       "      <th>Max Temp</th>\n",
       "      <th>Humidity</th>\n",
       "      <th>Cloudiness</th>\n",
       "      <th>Wind Speed</th>\n",
       "      <th>Date</th>\n",
       "    </tr>\n",
       "  </thead>\n",
       "  <tbody>\n",
       "    <tr>\n",
       "      <th>count</th>\n",
       "      <td>565.000000</td>\n",
       "      <td>565.000000</td>\n",
       "      <td>565.000000</td>\n",
       "      <td>565.000000</td>\n",
       "      <td>565.000000</td>\n",
       "      <td>565.00000</td>\n",
       "      <td>5.650000e+02</td>\n",
       "    </tr>\n",
       "    <tr>\n",
       "      <th>mean</th>\n",
       "      <td>20.625326</td>\n",
       "      <td>13.168719</td>\n",
       "      <td>60.259239</td>\n",
       "      <td>68.138053</td>\n",
       "      <td>54.281416</td>\n",
       "      <td>8.50623</td>\n",
       "      <td>1.618316e+09</td>\n",
       "    </tr>\n",
       "    <tr>\n",
       "      <th>std</th>\n",
       "      <td>33.401007</td>\n",
       "      <td>89.892009</td>\n",
       "      <td>23.446805</td>\n",
       "      <td>23.610959</td>\n",
       "      <td>37.427572</td>\n",
       "      <td>5.67590</td>\n",
       "      <td>1.032858e+02</td>\n",
       "    </tr>\n",
       "    <tr>\n",
       "      <th>min</th>\n",
       "      <td>-54.800000</td>\n",
       "      <td>-175.200000</td>\n",
       "      <td>-19.300000</td>\n",
       "      <td>3.000000</td>\n",
       "      <td>0.000000</td>\n",
       "      <td>0.20000</td>\n",
       "      <td>1.618315e+09</td>\n",
       "    </tr>\n",
       "    <tr>\n",
       "      <th>25%</th>\n",
       "      <td>-8.145000</td>\n",
       "      <td>-64.900000</td>\n",
       "      <td>46.000000</td>\n",
       "      <td>55.000000</td>\n",
       "      <td>20.000000</td>\n",
       "      <td>4.29000</td>\n",
       "      <td>1.618316e+09</td>\n",
       "    </tr>\n",
       "    <tr>\n",
       "      <th>50%</th>\n",
       "      <td>27.506400</td>\n",
       "      <td>18.423200</td>\n",
       "      <td>64.170000</td>\n",
       "      <td>74.000000</td>\n",
       "      <td>65.000000</td>\n",
       "      <td>6.91000</td>\n",
       "      <td>1.618316e+09</td>\n",
       "    </tr>\n",
       "    <tr>\n",
       "      <th>75%</th>\n",
       "      <td>48.390300</td>\n",
       "      <td>82.448400</td>\n",
       "      <td>78.800000</td>\n",
       "      <td>86.000000</td>\n",
       "      <td>90.000000</td>\n",
       "      <td>11.50000</td>\n",
       "      <td>1.618316e+09</td>\n",
       "    </tr>\n",
       "    <tr>\n",
       "      <th>max</th>\n",
       "      <td>78.218600</td>\n",
       "      <td>179.316700</td>\n",
       "      <td>107.370000</td>\n",
       "      <td>100.000000</td>\n",
       "      <td>100.000000</td>\n",
       "      <td>37.87000</td>\n",
       "      <td>1.618316e+09</td>\n",
       "    </tr>\n",
       "  </tbody>\n",
       "</table>\n",
       "</div>"
      ],
      "text/plain": [
       "              Lat         Lng    Max Temp    Humidity  Cloudiness  Wind Speed  \\\n",
       "count  565.000000  565.000000  565.000000  565.000000  565.000000   565.00000   \n",
       "mean    20.625326   13.168719   60.259239   68.138053   54.281416     8.50623   \n",
       "std     33.401007   89.892009   23.446805   23.610959   37.427572     5.67590   \n",
       "min    -54.800000 -175.200000  -19.300000    3.000000    0.000000     0.20000   \n",
       "25%     -8.145000  -64.900000   46.000000   55.000000   20.000000     4.29000   \n",
       "50%     27.506400   18.423200   64.170000   74.000000   65.000000     6.91000   \n",
       "75%     48.390300   82.448400   78.800000   86.000000   90.000000    11.50000   \n",
       "max     78.218600  179.316700  107.370000  100.000000  100.000000    37.87000   \n",
       "\n",
       "               Date  \n",
       "count  5.650000e+02  \n",
       "mean   1.618316e+09  \n",
       "std    1.032858e+02  \n",
       "min    1.618315e+09  \n",
       "25%    1.618316e+09  \n",
       "50%    1.618316e+09  \n",
       "75%    1.618316e+09  \n",
       "max    1.618316e+09  "
      ]
     },
     "execution_count": 8,
     "metadata": {},
     "output_type": "execute_result"
    }
   ],
   "source": [
    "# There are no cities with a humidity greater than 100%.\n",
    "# This can be observed as the max for Humidity is 100 in 'weather_summ'.\n",
    "# Additionally, we will determine this filtering out Humidity levels over 100% and generating a new summary table\n",
    "clean_weather_df = weather_df.loc[weather_df[\"Humidity\"] <= 100, :]\n",
    "\n",
    "clean_weather_df.describe()\n",
    "\n",
    "# Since this data can be generated for cases that satisfy this condition, we will only use clean_weather_df"
   ]
  },
  {
   "cell_type": "code",
   "execution_count": 9,
   "metadata": {},
   "outputs": [
    {
     "data": {
      "text/html": [
       "<div>\n",
       "<style scoped>\n",
       "    .dataframe tbody tr th:only-of-type {\n",
       "        vertical-align: middle;\n",
       "    }\n",
       "\n",
       "    .dataframe tbody tr th {\n",
       "        vertical-align: top;\n",
       "    }\n",
       "\n",
       "    .dataframe thead th {\n",
       "        text-align: right;\n",
       "    }\n",
       "</style>\n",
       "<table border=\"1\" class=\"dataframe\">\n",
       "  <thead>\n",
       "    <tr style=\"text-align: right;\">\n",
       "      <th></th>\n",
       "      <th>Lat</th>\n",
       "      <th>Lng</th>\n",
       "      <th>Max Temp</th>\n",
       "      <th>Humidity</th>\n",
       "      <th>Cloudiness</th>\n",
       "      <th>Wind Speed</th>\n",
       "      <th>Date</th>\n",
       "    </tr>\n",
       "  </thead>\n",
       "  <tbody>\n",
       "    <tr>\n",
       "      <th>count</th>\n",
       "      <td>565.000000</td>\n",
       "      <td>565.000000</td>\n",
       "      <td>565.000000</td>\n",
       "      <td>565.000000</td>\n",
       "      <td>565.000000</td>\n",
       "      <td>565.00000</td>\n",
       "      <td>5.650000e+02</td>\n",
       "    </tr>\n",
       "    <tr>\n",
       "      <th>mean</th>\n",
       "      <td>20.625326</td>\n",
       "      <td>13.168719</td>\n",
       "      <td>60.259239</td>\n",
       "      <td>68.138053</td>\n",
       "      <td>54.281416</td>\n",
       "      <td>8.50623</td>\n",
       "      <td>1.618316e+09</td>\n",
       "    </tr>\n",
       "    <tr>\n",
       "      <th>std</th>\n",
       "      <td>33.401007</td>\n",
       "      <td>89.892009</td>\n",
       "      <td>23.446805</td>\n",
       "      <td>23.610959</td>\n",
       "      <td>37.427572</td>\n",
       "      <td>5.67590</td>\n",
       "      <td>1.032858e+02</td>\n",
       "    </tr>\n",
       "    <tr>\n",
       "      <th>min</th>\n",
       "      <td>-54.800000</td>\n",
       "      <td>-175.200000</td>\n",
       "      <td>-19.300000</td>\n",
       "      <td>3.000000</td>\n",
       "      <td>0.000000</td>\n",
       "      <td>0.20000</td>\n",
       "      <td>1.618315e+09</td>\n",
       "    </tr>\n",
       "    <tr>\n",
       "      <th>25%</th>\n",
       "      <td>-8.145000</td>\n",
       "      <td>-64.900000</td>\n",
       "      <td>46.000000</td>\n",
       "      <td>55.000000</td>\n",
       "      <td>20.000000</td>\n",
       "      <td>4.29000</td>\n",
       "      <td>1.618316e+09</td>\n",
       "    </tr>\n",
       "    <tr>\n",
       "      <th>50%</th>\n",
       "      <td>27.506400</td>\n",
       "      <td>18.423200</td>\n",
       "      <td>64.170000</td>\n",
       "      <td>74.000000</td>\n",
       "      <td>65.000000</td>\n",
       "      <td>6.91000</td>\n",
       "      <td>1.618316e+09</td>\n",
       "    </tr>\n",
       "    <tr>\n",
       "      <th>75%</th>\n",
       "      <td>48.390300</td>\n",
       "      <td>82.448400</td>\n",
       "      <td>78.800000</td>\n",
       "      <td>86.000000</td>\n",
       "      <td>90.000000</td>\n",
       "      <td>11.50000</td>\n",
       "      <td>1.618316e+09</td>\n",
       "    </tr>\n",
       "    <tr>\n",
       "      <th>max</th>\n",
       "      <td>78.218600</td>\n",
       "      <td>179.316700</td>\n",
       "      <td>107.370000</td>\n",
       "      <td>100.000000</td>\n",
       "      <td>100.000000</td>\n",
       "      <td>37.87000</td>\n",
       "      <td>1.618316e+09</td>\n",
       "    </tr>\n",
       "  </tbody>\n",
       "</table>\n",
       "</div>"
      ],
      "text/plain": [
       "              Lat         Lng    Max Temp    Humidity  Cloudiness  Wind Speed  \\\n",
       "count  565.000000  565.000000  565.000000  565.000000  565.000000   565.00000   \n",
       "mean    20.625326   13.168719   60.259239   68.138053   54.281416     8.50623   \n",
       "std     33.401007   89.892009   23.446805   23.610959   37.427572     5.67590   \n",
       "min    -54.800000 -175.200000  -19.300000    3.000000    0.000000     0.20000   \n",
       "25%     -8.145000  -64.900000   46.000000   55.000000   20.000000     4.29000   \n",
       "50%     27.506400   18.423200   64.170000   74.000000   65.000000     6.91000   \n",
       "75%     48.390300   82.448400   78.800000   86.000000   90.000000    11.50000   \n",
       "max     78.218600  179.316700  107.370000  100.000000  100.000000    37.87000   \n",
       "\n",
       "               Date  \n",
       "count  5.650000e+02  \n",
       "mean   1.618316e+09  \n",
       "std    1.032858e+02  \n",
       "min    1.618315e+09  \n",
       "25%    1.618316e+09  \n",
       "50%    1.618316e+09  \n",
       "75%    1.618316e+09  \n",
       "max    1.618316e+09  "
      ]
     },
     "execution_count": 9,
     "metadata": {},
     "output_type": "execute_result"
    }
   ],
   "source": [
    "# We will also regenarate the summary table to avoid future discrepancies\n",
    "\n",
    "clean_weather_summ = clean_weather_df.describe()\n",
    "\n",
    "clean_weather_summ"
   ]
  },
  {
   "cell_type": "markdown",
   "metadata": {},
   "source": [
    "## Plotting the Data\n",
    "* Use proper labeling of the plots using plot titles (including date of analysis) and axes labels.\n",
    "* Save the plotted figures as .pngs."
   ]
  },
  {
   "cell_type": "markdown",
   "metadata": {},
   "source": [
    "## Latitude vs. Temperature Plot"
   ]
  },
  {
   "cell_type": "code",
   "execution_count": 10,
   "metadata": {},
   "outputs": [
    {
     "data": {
      "image/png": "[encoded data removed]",
      "text/plain": [
       "<Figure size 432x288 with 1 Axes>"
      ]
     },
     "metadata": {
      "needs_background": "light"
     },
     "output_type": "display_data"
    }
   ],
   "source": [
    "plt.scatter(clean_weather_df[\"Lat\"], clean_weather_df[\"Max Temp\"], edgecolors = \"black\")\n",
    "plt.title(\"City Latitude vs. Max Temperature (04/13/21)\")\n",
    "plt.xlabel(\"Latitude\")\n",
    "plt.ylabel(\"Max Temp (F)\")\n",
    "plt.grid()\n",
    "plt.show();"
   ]
  },
  {
   "cell_type": "markdown",
   "metadata": {},
   "source": [
    "## Latitude vs. Humidity Plot"
   ]
  },
  {
   "cell_type": "code",
   "execution_count": 11,
   "metadata": {},
   "outputs": [
    {
     "data": {
      "image/png": "[encoded data removed]",
      "text/plain": [
       "<Figure size 432x288 with 1 Axes>"
      ]
     },
     "metadata": {
      "needs_background": "light"
     },
     "output_type": "display_data"
    }
   ],
   "source": [
    "plt.scatter(clean_weather_df[\"Lat\"], clean_weather_df[\"Humidity\"], edgecolors = \"black\")\n",
    "plt.title(\"City Latitude vs. Humidity (04/13/21)\")\n",
    "plt.xlabel(\"Latitude\")\n",
    "plt.ylabel(\"Humidity (%)\")\n",
    "plt.grid()\n",
    "plt.show();"
   ]
  },
  {
   "cell_type": "markdown",
   "metadata": {},
   "source": [
    "## Latitude vs. Cloudiness Plot"
   ]
  },
  {
   "cell_type": "code",
   "execution_count": 12,
   "metadata": {},
   "outputs": [
    {
     "data": {
      "image/png": "[encoded data removed]",
      "text/plain": [
       "<Figure size 432x288 with 1 Axes>"
      ]
     },
     "metadata": {
      "needs_background": "light"
     },
     "output_type": "display_data"
    }
   ],
   "source": [
    "plt.scatter(clean_weather_df[\"Lat\"], clean_weather_df[\"Cloudiness\"], edgecolors = \"black\")\n",
    "plt.title(\"City Latitude vs. Cloudiness (04/13/21)\")\n",
    "plt.xlabel(\"Latitude\")\n",
    "plt.ylabel(\"Cloudiness (%)\")\n",
    "plt.grid()\n",
    "plt.show();"
   ]
  },
  {
   "cell_type": "markdown",
   "metadata": {},
   "source": [
    "## Latitude vs. Wind Speed Plot"
   ]
  },
  {
   "cell_type": "code",
   "execution_count": 14,
   "metadata": {},
   "outputs": [
    {
     "data": {
      "image/png": "[encoded data removed]",
      "text/plain": [
       "<Figure size 432x288 with 1 Axes>"
      ]
     },
     "metadata": {
      "needs_background": "light"
     },
     "output_type": "display_data"
    }
   ],
   "source": [
    "plt.scatter(clean_weather_df[\"Lat\"], clean_weather_df[\"Wind Speed\"], edgecolors = \"black\")\n",
    "plt.title(\"City Latitude vs. Wind Speed (04/13/21)\")\n",
    "plt.xlabel(\"Latitude\")\n",
    "plt.ylabel(\"Wind Speed (mph)\")\n",
    "plt.yticks([0, 10, 20, 30, 40])\n",
    "plt.grid()\n",
    "plt.show();"
   ]
  },
  {
   "cell_type": "markdown",
   "metadata": {},
   "source": [
    "## Linear Regression"
   ]
  },
  {
   "cell_type": "code",
   "execution_count": 24,
   "metadata": {},
   "outputs": [],
   "source": []
  },
  {
   "cell_type": "markdown",
   "metadata": {},
   "source": [
    "####  Northern Hemisphere - Max Temp vs. Latitude Linear Regression"
   ]
  },
  {
   "cell_type": "code",
   "execution_count": 25,
   "metadata": {},
   "outputs": [
    {
     "name": "stdout",
     "output_type": "stream",
     "text": [
      "The r-value is: 0.46937863826630627\n"
     ]
    },
    {
     "data": {
      "image/png": "[encoded data removed]",
      "text/plain": [
       "<Figure size 432x288 with 1 Axes>"
      ]
     },
     "metadata": {
      "needs_background": "light"
     },
     "output_type": "display_data"
    }
   ],
   "source": []
  },
  {
   "cell_type": "markdown",
   "metadata": {},
   "source": [
    "####  Southern Hemisphere - Max Temp vs. Latitude Linear Regression"
   ]
  },
  {
   "cell_type": "code",
   "execution_count": 26,
   "metadata": {},
   "outputs": [
    {
     "name": "stdout",
     "output_type": "stream",
     "text": [
      "The r-value is: 0.6082708688906918\n"
     ]
    },
    {
     "data": {
      "image/png": "[encoded data removed]",
      "text/plain": [
       "<Figure size 432x288 with 1 Axes>"
      ]
     },
     "metadata": {
      "needs_background": "light"
     },
     "output_type": "display_data"
    }
   ],
   "source": []
  },
  {
   "cell_type": "markdown",
   "metadata": {},
   "source": [
    "####  Northern Hemisphere - Humidity (%) vs. Latitude Linear Regression"
   ]
  },
  {
   "cell_type": "code",
   "execution_count": 27,
   "metadata": {},
   "outputs": [
    {
     "name": "stdout",
     "output_type": "stream",
     "text": [
      "The r-value is: 0.000543987878808455\n"
     ]
    },
    {
     "data": {
      "image/png": "[encoded data removed]",
      "text/plain": [
       "<Figure size 432x288 with 1 Axes>"
      ]
     },
     "metadata": {
      "needs_background": "light"
     },
     "output_type": "display_data"
    }
   ],
   "source": []
  },
  {
   "cell_type": "markdown",
   "metadata": {},
   "source": [
    "####  Southern Hemisphere - Humidity (%) vs. Latitude Linear Regression"
   ]
  },
  {
   "cell_type": "code",
   "execution_count": 28,
   "metadata": {},
   "outputs": [
    {
     "name": "stdout",
     "output_type": "stream",
     "text": [
      "The r-value is: 0.014985174297345524\n"
     ]
    },
    {
     "data": {
      "image/png": "[encoded data removed]",
      "text/plain": [
       "<Figure size 432x288 with 1 Axes>"
      ]
     },
     "metadata": {
      "needs_background": "light"
     },
     "output_type": "display_data"
    }
   ],
   "source": []
  },
  {
   "cell_type": "markdown",
   "metadata": {},
   "source": [
    "####  Northern Hemisphere - Cloudiness (%) vs. Latitude Linear Regression"
   ]
  },
  {
   "cell_type": "code",
   "execution_count": 29,
   "metadata": {},
   "outputs": [
    {
     "name": "stdout",
     "output_type": "stream",
     "text": [
      "The r-value is: 0.0020898727664228514\n"
     ]
    },
    {
     "data": {
      "image/png": "[encoded data removed]",
      "text/plain": [
       "<Figure size 432x288 with 1 Axes>"
      ]
     },
     "metadata": {
      "needs_background": "light"
     },
     "output_type": "display_data"
    }
   ],
   "source": []
  },
  {
   "cell_type": "markdown",
   "metadata": {},
   "source": [
    "####  Southern Hemisphere - Cloudiness (%) vs. Latitude Linear Regression"
   ]
  },
  {
   "cell_type": "code",
   "execution_count": 30,
   "metadata": {},
   "outputs": [
    {
     "name": "stdout",
     "output_type": "stream",
     "text": [
      "The r-value is: 0.0035263772085582894\n"
     ]
    },
    {
     "data": {
      "image/png": "[encoded data removed]",
      "text/plain": [
       "<Figure size 432x288 with 1 Axes>"
      ]
     },
     "metadata": {
      "needs_background": "light"
     },
     "output_type": "display_data"
    }
   ],
   "source": []
  },
  {
   "cell_type": "markdown",
   "metadata": {},
   "source": [
    "####  Northern Hemisphere - Wind Speed (mph) vs. Latitude Linear Regression"
   ]
  },
  {
   "cell_type": "code",
   "execution_count": 31,
   "metadata": {},
   "outputs": [
    {
     "name": "stdout",
     "output_type": "stream",
     "text": [
      "The r-value is: 0.04019723576144484\n"
     ]
    },
    {
     "data": {
      "image/png": "[encoded data removed]",
      "text/plain": [
       "<Figure size 432x288 with 1 Axes>"
      ]
     },
     "metadata": {
      "needs_background": "light"
     },
     "output_type": "display_data"
    }
   ],
   "source": []
  },
  {
   "cell_type": "markdown",
   "metadata": {},
   "source": [
    "####  Southern Hemisphere - Wind Speed (mph) vs. Latitude Linear Regression"
   ]
  },
  {
   "cell_type": "code",
   "execution_count": 32,
   "metadata": {},
   "outputs": [
    {
     "name": "stdout",
     "output_type": "stream",
     "text": [
      "The r-value is: 0.017128274759839232\n"
     ]
    },
    {
     "data": {
      "image/png": "[encoded data removed]",
      "text/plain": [
       "<Figure size 432x288 with 1 Axes>"
      ]
     },
     "metadata": {
      "needs_background": "light"
     },
     "output_type": "display_data"
    }
   ],
   "source": []
  },
  {
   "cell_type": "code",
   "execution_count": null,
   "metadata": {},
   "outputs": [],
   "source": []
  }
 ],
 "metadata": {
  "anaconda-cloud": {},
  "kernel_info": {
   "name": "python3"
  },
  "kernelspec": {
   "display_name": "Python 3",
   "language": "python",
   "name": "python3"
  },
  "language_info": {
   "codemirror_mode": {
    "name": "ipython",
    "version": 3
   },
   "file_extension": ".py",
   "mimetype": "text/x-python",
   "name": "python",
   "nbconvert_exporter": "python",
   "pygments_lexer": "ipython3",
   "version": "3.8.5"
  },
  "latex_envs": {
   "LaTeX_envs_menu_present": true,
   "autoclose": false,
   "autocomplete": true,
   "bibliofile": "biblio.bib",
   "cite_by": "apalike",
   "current_citInitial": 1,
   "eqLabelWithNumbers": true,
   "eqNumInitial": 1,
   "hotkeys": {
    "equation": "Ctrl-E",
    "itemize": "Ctrl-I"
   },
   "labels_anchors": false,
   "latex_user_defs": false,
   "report_style_numbering": false,
   "user_envs_cfg": false
  },
  "nteract": {
   "version": "0.12.3"
  }
 },
 "nbformat": 4,
 "nbformat_minor": 2
}
